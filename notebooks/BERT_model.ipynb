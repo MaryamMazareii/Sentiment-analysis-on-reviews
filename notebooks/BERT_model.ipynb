{
  "cells": [
    {
      "cell_type": "code",
      "execution_count": null,
      "id": "1e3fac49",
      "metadata": {
        "id": "1e3fac49"
      },
      "outputs": [],
      "source": [
        "%matplotlib inline\n",
        "from matplotlib import pyplot as plt\n",
        "import pandas as pd\n",
        "import sklearn\n",
        "import warnings\n",
        "import transformers\n",
        "import tensorflow as ts\n",
        "import numpy as np\n",
        "import seaborn as sns\n",
        "import tensorflow as tf "
      ]
    },
    {
      "cell_type": "code",
      "execution_count": null,
      "id": "e93af295",
      "metadata": {
        "id": "e93af295"
      },
      "outputs": [],
      "source": [
        "warnings.filterwarnings('ignore')"
      ]
    },
    {
      "cell_type": "code",
      "execution_count": null,
      "id": "87a4607e",
      "metadata": {
        "colab": {
          "base_uri": "https://localhost:8080/",
          "height": 206
        },
        "id": "87a4607e",
        "outputId": "c9536ed3-f40d-4e44-cfff-6ccf3732a899",
        "scrolled": true
      },
      "outputs": [
        {
          "data": {
            "application/vnd.google.colaboratory.intrinsic+json": {
              "summary": "{\n  \"name\": \"data\",\n  \"rows\": 8236,\n  \"fields\": [\n    {\n      \"column\": \"review\",\n      \"properties\": {\n        \"dtype\": \"string\",\n        \"num_unique_values\": 5678,\n        \"samples\": [\n          \"That movie, 'Space Explorers 2,' was a complete mess. The plot was confusing, and the special effects were terrible. I wouldn't recommend it.\",\n          \"This store is overpriced and the customer service is terrible.  I'm angry.\",\n          \"My bird loves the new bird feeder, he's been eating all day!\"\n        ],\n        \"semantic_type\": \"\",\n        \"description\": \"\"\n      }\n    },\n    {\n      \"column\": \"model\",\n      \"properties\": {\n        \"dtype\": \"category\",\n        \"num_unique_values\": 6,\n        \"samples\": [\n          \"Gemini-1.5-Flash\",\n          \"Gemini-2.0-Flash-Lite\",\n          \"GPT-5-mini\"\n        ],\n        \"semantic_type\": \"\",\n        \"description\": \"\"\n      }\n    },\n    {\n      \"column\": \"sentiment\",\n      \"properties\": {\n        \"dtype\": \"category\",\n        \"num_unique_values\": 3,\n        \"samples\": [\n          \"negative\",\n          \"neutral\",\n          \"positive\"\n        ],\n        \"semantic_type\": \"\",\n        \"description\": \"\"\n      }\n    }\n  ]\n}",
              "type": "dataframe",
              "variable_name": "data"
            },
            "text/html": [
              "\n",
              "  <div id=\"df-3c2a5c70-6d57-4038-b725-a5b89de75693\" class=\"colab-df-container\">\n",
              "    <div>\n",
              "<style scoped>\n",
              "    .dataframe tbody tr th:only-of-type {\n",
              "        vertical-align: middle;\n",
              "    }\n",
              "\n",
              "    .dataframe tbody tr th {\n",
              "        vertical-align: top;\n",
              "    }\n",
              "\n",
              "    .dataframe thead th {\n",
              "        text-align: right;\n",
              "    }\n",
              "</style>\n",
              "<table border=\"1\" class=\"dataframe\">\n",
              "  <thead>\n",
              "    <tr style=\"text-align: right;\">\n",
              "      <th></th>\n",
              "      <th>review</th>\n",
              "      <th>model</th>\n",
              "      <th>sentiment</th>\n",
              "    </tr>\n",
              "  </thead>\n",
              "  <tbody>\n",
              "    <tr>\n",
              "      <th>0</th>\n",
              "      <td>The movie was a complete snoozefest.  I regret...</td>\n",
              "      <td>Gemini-1.5-Flash</td>\n",
              "      <td>negative</td>\n",
              "    </tr>\n",
              "    <tr>\n",
              "      <th>1</th>\n",
              "      <td>Seriously, the worst venue I've ever been to. ...</td>\n",
              "      <td>Gemini-1.5-Flash</td>\n",
              "      <td>negative</td>\n",
              "    </tr>\n",
              "    <tr>\n",
              "      <th>2</th>\n",
              "      <td>This event was so poorly organized, it was a j...</td>\n",
              "      <td>Gemini-1.5-Flash</td>\n",
              "      <td>negative</td>\n",
              "    </tr>\n",
              "    <tr>\n",
              "      <th>3</th>\n",
              "      <td>What a disaster of a movie!  The acting was aw...</td>\n",
              "      <td>Gemini-1.5-Flash</td>\n",
              "      <td>negative</td>\n",
              "    </tr>\n",
              "    <tr>\n",
              "      <th>4</th>\n",
              "      <td>I wouldn't recommend this venue to my worst en...</td>\n",
              "      <td>Gemini-1.5-Flash</td>\n",
              "      <td>negative</td>\n",
              "    </tr>\n",
              "  </tbody>\n",
              "</table>\n",
              "</div>\n",
              "    <div class=\"colab-df-buttons\">\n",
              "\n",
              "  <div class=\"colab-df-container\">\n",
              "    <button class=\"colab-df-convert\" onclick=\"convertToInteractive('df-3c2a5c70-6d57-4038-b725-a5b89de75693')\"\n",
              "            title=\"Convert this dataframe to an interactive table.\"\n",
              "            style=\"display:none;\">\n",
              "\n",
              "  <svg xmlns=\"http://www.w3.org/2000/svg\" height=\"24px\" viewBox=\"0 -960 960 960\">\n",
              "    <path d=\"M120-120v-720h720v720H120Zm60-500h600v-160H180v160Zm220 220h160v-160H400v160Zm0 220h160v-160H400v160ZM180-400h160v-160H180v160Zm440 0h160v-160H620v160ZM180-180h160v-160H180v160Zm440 0h160v-160H620v160Z\"/>\n",
              "  </svg>\n",
              "    </button>\n",
              "\n",
              "  <style>\n",
              "    .colab-df-container {\n",
              "      display:flex;\n",
              "      gap: 12px;\n",
              "    }\n",
              "\n",
              "    .colab-df-convert {\n",
              "      background-color: #E8F0FE;\n",
              "      border: none;\n",
              "      border-radius: 50%;\n",
              "      cursor: pointer;\n",
              "      display: none;\n",
              "      fill: #1967D2;\n",
              "      height: 32px;\n",
              "      padding: 0 0 0 0;\n",
              "      width: 32px;\n",
              "    }\n",
              "\n",
              "    .colab-df-convert:hover {\n",
              "      background-color: #E2EBFA;\n",
              "      box-shadow: 0px 1px 2px rgba(60, 64, 67, 0.3), 0px 1px 3px 1px rgba(60, 64, 67, 0.15);\n",
              "      fill: #174EA6;\n",
              "    }\n",
              "\n",
              "    .colab-df-buttons div {\n",
              "      margin-bottom: 4px;\n",
              "    }\n",
              "\n",
              "    [theme=dark] .colab-df-convert {\n",
              "      background-color: #3B4455;\n",
              "      fill: #D2E3FC;\n",
              "    }\n",
              "\n",
              "    [theme=dark] .colab-df-convert:hover {\n",
              "      background-color: #434B5C;\n",
              "      box-shadow: 0px 1px 3px 1px rgba(0, 0, 0, 0.15);\n",
              "      filter: drop-shadow(0px 1px 2px rgba(0, 0, 0, 0.3));\n",
              "      fill: #FFFFFF;\n",
              "    }\n",
              "  </style>\n",
              "\n",
              "    <script>\n",
              "      const buttonEl =\n",
              "        document.querySelector('#df-3c2a5c70-6d57-4038-b725-a5b89de75693 button.colab-df-convert');\n",
              "      buttonEl.style.display =\n",
              "        google.colab.kernel.accessAllowed ? 'block' : 'none';\n",
              "\n",
              "      async function convertToInteractive(key) {\n",
              "        const element = document.querySelector('#df-3c2a5c70-6d57-4038-b725-a5b89de75693');\n",
              "        const dataTable =\n",
              "          await google.colab.kernel.invokeFunction('convertToInteractive',\n",
              "                                                    [key], {});\n",
              "        if (!dataTable) return;\n",
              "\n",
              "        const docLinkHtml = 'Like what you see? Visit the ' +\n",
              "          '<a target=\"_blank\" href=https://colab.research.google.com/notebooks/data_table.ipynb>data table notebook</a>'\n",
              "          + ' to learn more about interactive tables.';\n",
              "        element.innerHTML = '';\n",
              "        dataTable['output_type'] = 'display_data';\n",
              "        await google.colab.output.renderOutput(dataTable, element);\n",
              "        const docLink = document.createElement('div');\n",
              "        docLink.innerHTML = docLinkHtml;\n",
              "        element.appendChild(docLink);\n",
              "      }\n",
              "    </script>\n",
              "  </div>\n",
              "\n",
              "\n",
              "    <div id=\"df-db4151fe-9e3f-463d-818b-3c70fb9c1139\">\n",
              "      <button class=\"colab-df-quickchart\" onclick=\"quickchart('df-db4151fe-9e3f-463d-818b-3c70fb9c1139')\"\n",
              "                title=\"Suggest charts\"\n",
              "                style=\"display:none;\">\n",
              "\n",
              "<svg xmlns=\"http://www.w3.org/2000/svg\" height=\"24px\"viewBox=\"0 0 24 24\"\n",
              "     width=\"24px\">\n",
              "    <g>\n",
              "        <path d=\"M19 3H5c-1.1 0-2 .9-2 2v14c0 1.1.9 2 2 2h14c1.1 0 2-.9 2-2V5c0-1.1-.9-2-2-2zM9 17H7v-7h2v7zm4 0h-2V7h2v10zm4 0h-2v-4h2v4z\"/>\n",
              "    </g>\n",
              "</svg>\n",
              "      </button>\n",
              "\n",
              "<style>\n",
              "  .colab-df-quickchart {\n",
              "      --bg-color: #E8F0FE;\n",
              "      --fill-color: #1967D2;\n",
              "      --hover-bg-color: #E2EBFA;\n",
              "      --hover-fill-color: #174EA6;\n",
              "      --disabled-fill-color: #AAA;\n",
              "      --disabled-bg-color: #DDD;\n",
              "  }\n",
              "\n",
              "  [theme=dark] .colab-df-quickchart {\n",
              "      --bg-color: #3B4455;\n",
              "      --fill-color: #D2E3FC;\n",
              "      --hover-bg-color: #434B5C;\n",
              "      --hover-fill-color: #FFFFFF;\n",
              "      --disabled-bg-color: #3B4455;\n",
              "      --disabled-fill-color: #666;\n",
              "  }\n",
              "\n",
              "  .colab-df-quickchart {\n",
              "    background-color: var(--bg-color);\n",
              "    border: none;\n",
              "    border-radius: 50%;\n",
              "    cursor: pointer;\n",
              "    display: none;\n",
              "    fill: var(--fill-color);\n",
              "    height: 32px;\n",
              "    padding: 0;\n",
              "    width: 32px;\n",
              "  }\n",
              "\n",
              "  .colab-df-quickchart:hover {\n",
              "    background-color: var(--hover-bg-color);\n",
              "    box-shadow: 0 1px 2px rgba(60, 64, 67, 0.3), 0 1px 3px 1px rgba(60, 64, 67, 0.15);\n",
              "    fill: var(--button-hover-fill-color);\n",
              "  }\n",
              "\n",
              "  .colab-df-quickchart-complete:disabled,\n",
              "  .colab-df-quickchart-complete:disabled:hover {\n",
              "    background-color: var(--disabled-bg-color);\n",
              "    fill: var(--disabled-fill-color);\n",
              "    box-shadow: none;\n",
              "  }\n",
              "\n",
              "  .colab-df-spinner {\n",
              "    border: 2px solid var(--fill-color);\n",
              "    border-color: transparent;\n",
              "    border-bottom-color: var(--fill-color);\n",
              "    animation:\n",
              "      spin 1s steps(1) infinite;\n",
              "  }\n",
              "\n",
              "  @keyframes spin {\n",
              "    0% {\n",
              "      border-color: transparent;\n",
              "      border-bottom-color: var(--fill-color);\n",
              "      border-left-color: var(--fill-color);\n",
              "    }\n",
              "    20% {\n",
              "      border-color: transparent;\n",
              "      border-left-color: var(--fill-color);\n",
              "      border-top-color: var(--fill-color);\n",
              "    }\n",
              "    30% {\n",
              "      border-color: transparent;\n",
              "      border-left-color: var(--fill-color);\n",
              "      border-top-color: var(--fill-color);\n",
              "      border-right-color: var(--fill-color);\n",
              "    }\n",
              "    40% {\n",
              "      border-color: transparent;\n",
              "      border-right-color: var(--fill-color);\n",
              "      border-top-color: var(--fill-color);\n",
              "    }\n",
              "    60% {\n",
              "      border-color: transparent;\n",
              "      border-right-color: var(--fill-color);\n",
              "    }\n",
              "    80% {\n",
              "      border-color: transparent;\n",
              "      border-right-color: var(--fill-color);\n",
              "      border-bottom-color: var(--fill-color);\n",
              "    }\n",
              "    90% {\n",
              "      border-color: transparent;\n",
              "      border-bottom-color: var(--fill-color);\n",
              "    }\n",
              "  }\n",
              "</style>\n",
              "\n",
              "      <script>\n",
              "        async function quickchart(key) {\n",
              "          const quickchartButtonEl =\n",
              "            document.querySelector('#' + key + ' button');\n",
              "          quickchartButtonEl.disabled = true;  // To prevent multiple clicks.\n",
              "          quickchartButtonEl.classList.add('colab-df-spinner');\n",
              "          try {\n",
              "            const charts = await google.colab.kernel.invokeFunction(\n",
              "                'suggestCharts', [key], {});\n",
              "          } catch (error) {\n",
              "            console.error('Error during call to suggestCharts:', error);\n",
              "          }\n",
              "          quickchartButtonEl.classList.remove('colab-df-spinner');\n",
              "          quickchartButtonEl.classList.add('colab-df-quickchart-complete');\n",
              "        }\n",
              "        (() => {\n",
              "          let quickchartButtonEl =\n",
              "            document.querySelector('#df-db4151fe-9e3f-463d-818b-3c70fb9c1139 button');\n",
              "          quickchartButtonEl.style.display =\n",
              "            google.colab.kernel.accessAllowed ? 'block' : 'none';\n",
              "        })();\n",
              "      </script>\n",
              "    </div>\n",
              "\n",
              "    </div>\n",
              "  </div>\n"
            ],
            "text/plain": [
              "                                              review             model  \\\n",
              "0  The movie was a complete snoozefest.  I regret...  Gemini-1.5-Flash   \n",
              "1  Seriously, the worst venue I've ever been to. ...  Gemini-1.5-Flash   \n",
              "2  This event was so poorly organized, it was a j...  Gemini-1.5-Flash   \n",
              "3  What a disaster of a movie!  The acting was aw...  Gemini-1.5-Flash   \n",
              "4  I wouldn't recommend this venue to my worst en...  Gemini-1.5-Flash   \n",
              "\n",
              "  sentiment  \n",
              "0  negative  \n",
              "1  negative  \n",
              "2  negative  \n",
              "3  negative  \n",
              "4  negative  "
            ]
          },
          "execution_count": 7,
          "metadata": {},
          "output_type": "execute_result"
        }
      ],
      "source": [
        "data = pd.read_csv(\"data.csv\")"
      ]
    },
    {
      "cell_type": "code",
      "execution_count": null,
      "id": "ed73001a",
      "metadata": {
        "id": "ed73001a"
      },
      "outputs": [],
      "source": [
        "data.head()"
      ]
    },
    {
      "cell_type": "code",
      "execution_count": null,
      "id": "cab00fa0",
      "metadata": {},
      "outputs": [],
      "source": [
        "data.drop('model',axis=1,inplace = True)"
      ]
    },
    {
      "cell_type": "code",
      "execution_count": null,
      "id": "bf334e80",
      "metadata": {},
      "outputs": [],
      "source": [
        "data.tail()"
      ]
    },
    {
      "cell_type": "code",
      "execution_count": null,
      "id": "e1e6c2bd",
      "metadata": {},
      "outputs": [],
      "source": [
        "# Check for missing values\n",
        "\n",
        "missing_labels = data[\"sentiment\"].isnull().sum()"
      ]
    },
    {
      "cell_type": "code",
      "execution_count": null,
      "id": "8a29b2e3",
      "metadata": {},
      "outputs": [],
      "source": [
        "print(f'number of missing labels: {missing_labels}')"
      ]
    },
    {
      "cell_type": "code",
      "execution_count": null,
      "id": "fa5d16f8",
      "metadata": {},
      "outputs": [],
      "source": [
        "missing_rows = data[data['sentiment'].isnull()]"
      ]
    },
    {
      "cell_type": "code",
      "execution_count": null,
      "id": "9d3aa196",
      "metadata": {},
      "outputs": [],
      "source": [
        "print(missing_rows)"
      ]
    },
    {
      "cell_type": "code",
      "execution_count": null,
      "id": "5fd41cd3",
      "metadata": {},
      "outputs": [],
      "source": [
        "data.dropna(subset = ['sentiment'],inplace=True)\n",
        "data = data.reset_index(drop=True)"
      ]
    },
    {
      "cell_type": "code",
      "execution_count": null,
      "id": "a3d7b4f1",
      "metadata": {},
      "outputs": [],
      "source": [
        "print(data['sentiment'].isnull().sum())"
      ]
    },
    {
      "cell_type": "code",
      "execution_count": null,
      "id": "565e443c",
      "metadata": {},
      "outputs": [],
      "source": [
        "print(data['review'].isnull().sum())"
      ]
    },
    {
      "cell_type": "code",
      "execution_count": null,
      "id": "c2e80f7c",
      "metadata": {},
      "outputs": [],
      "source": [
        "# Encode sentiment labels as integers\n",
        "from sklearn.preprocessing import LabelEncoder\n",
        "le = LabelEncoder()\n",
        "data['sentiment'] = le.fit_transform(data['sentiment'])"
      ]
    },
    {
      "cell_type": "code",
      "execution_count": null,
      "id": "7731571b",
      "metadata": {},
      "outputs": [],
      "source": [
        "data.sample(5)"
      ]
    },
    {
      "cell_type": "code",
      "execution_count": null,
      "id": "6b74b3c5",
      "metadata": {},
      "outputs": [],
      "source": [
        "# compute token lengths for each review\n",
        "from transformers import BertTokenizer\n",
        "tokenizer = BertTokenizer.from_pretrained(\"bert-base-uncased\")\n",
        "length = data['review'].apply(lambda x: len(tokenizer.tokenize(x)))"
      ]
    },
    {
      "cell_type": "code",
      "execution_count": null,
      "id": "60db33cd",
      "metadata": {},
      "outputs": [],
      "source": [
        "print(length.describe())"
      ]
    },
    {
      "cell_type": "code",
      "execution_count": null,
      "id": "7e553ead",
      "metadata": {},
      "outputs": [],
      "source": [
        "print(\"empty reviews: \", ((length > 0) & (length <=1)).sum())\n",
        "print(\"1-24 tokens: \", ((length > 1) & (length <=24)).sum())\n",
        "print(\"24–64 tokens: \", ((length > 24) & (length <= 64)).sum())\n",
        "print(\">64 tokens: \", (length > 64).sum())"
      ]
    },
    {
      "cell_type": "code",
      "execution_count": null,
      "id": "a4e4e9b6",
      "metadata": {},
      "outputs": [],
      "source": [
        "# Tokenize all reviews using BERT tokenizer with fixed-length padding and truncation\n",
        "encoder = tokenizer(\n",
        "    list(data['review']),\n",
        "    truncation=True,\n",
        "    max_length=64,\n",
        "    padding=\"max_length\",\n",
        "    # Converts text into tensors suitable for TensorFlow models\n",
        "    return_tensors=\"tf\"\n",
        ")"
      ]
    },
    {
      "cell_type": "code",
      "execution_count": null,
      "id": "5ec5702a",
      "metadata": {},
      "outputs": [],
      "source": [
        "labels = data['sentiment'].values"
      ]
    },
    {
      "cell_type": "code",
      "execution_count": null,
      "id": "4e1e4685",
      "metadata": {},
      "outputs": [],
      "source": [
        "print(labels)"
      ]
    },
    {
      "cell_type": "code",
      "execution_count": null,
      "id": "7016d80c",
      "metadata": {},
      "outputs": [],
      "source": [
        "# Convert input IDs and attention masks from tensors to NumPy arrays for TensorFlow compatibility\n",
        "input_ids = encoder[\"input_ids\"].numpy()    \n",
        "attention_mask =  encoder[\"attention_mask\"].numpy()"
      ]
    },
    {
      "cell_type": "code",
      "execution_count": null,
      "id": "ebb7464d",
      "metadata": {},
      "outputs": [],
      "source": [
        "x = data['review'].values\n",
        "y = data['sentiment'].values"
      ]
    },
    {
      "cell_type": "code",
      "execution_count": null,
      "id": "b03b039a",
      "metadata": {},
      "outputs": [],
      "source": [
        "print(encoder.keys())"
      ]
    },
    {
      "cell_type": "code",
      "execution_count": null,
      "id": "9786861c",
      "metadata": {},
      "outputs": [],
      "source": [
        "from sklearn.model_selection import train_test_split"
      ]
    },
    {
      "cell_type": "code",
      "execution_count": null,
      "id": "72f3240e",
      "metadata": {},
      "outputs": [],
      "source": [
        "# Split input IDs, attention masks, and labels into training and testing sets\n",
        "x_train_ids,x_test_ids,x_train_mask,x_test_mask,y_train,y_test = train_test_split(\n",
        "    input_ids,\n",
        "    attention_mask,\n",
        "    labels,\n",
        "    test_size=0.2,\n",
        "    random_state=42,\n",
        "    shuffle=True\n",
        ")"
      ]
    },
    {
      "cell_type": "code",
      "execution_count": null,
      "id": "ac87c6ff",
      "metadata": {},
      "outputs": [],
      "source": [
        "x_train_ids.shape   #the number of training data"
      ]
    },
    {
      "cell_type": "code",
      "execution_count": null,
      "id": "2260a41c",
      "metadata": {},
      "outputs": [],
      "source": [
        "num_train_steps = (6587//16)*3    #train_steps = (number of training data/batch_size)*epoch"
      ]
    },
    {
      "cell_type": "code",
      "execution_count": null,
      "id": "30388e95",
      "metadata": {},
      "outputs": [],
      "source": [
        "print(x_train_ids.shape)\n",
        "print(x_train_mask.shape)"
      ]
    },
    {
      "cell_type": "code",
      "execution_count": null,
      "id": "6a1ea7f9",
      "metadata": {},
      "outputs": [],
      "source": [
        "import tensorflow.keras as keras\n",
        "from transformers import TFBertForSequenceClassification\n",
        "#model #1:\n",
        "# Load pre-trained BERT model for sequence classification with the number of sentiment labels\n",
        "model = TFBertForSequenceClassification.from_pretrained(\n",
        "    \"bert-base-uncased\",\n",
        "    num_labels = len(le.classes_),  # Number of output classes based on label encoder\n",
        ")\n",
        "\n",
        "# Define optimizer and loss function for training\n",
        "\n",
        "optimizer = keras.optimizers.Adam(learning_rate=3e-5)\n",
        "loss = keras.losses.SparseCategoricalCrossentropy(from_logits=True)\n",
        "\n",
        "model.compile(optimizer=optimizer, loss=loss, metrics=['accuracy'])"
      ]
    },
    {
      "cell_type": "code",
      "execution_count": null,
      "id": "b674e7bc",
      "metadata": {},
      "outputs": [],
      "source": [
        "from tensorflow.keras.callbacks import EarlyStopping   #prevents using too much space\n",
        "earlystop = EarlyStopping( \n",
        "    monitor = 'val_loss', \n",
        "    patience = 2, \n",
        "    restore_best_weights = True \n",
        ")"
      ]
    },
    {
      "cell_type": "code",
      "execution_count": null,
      "id": "22e86ce2",
      "metadata": {},
      "outputs": [],
      "source": [
        "# Train the BERT model\n",
        "bert = model.fit(\n",
        "    {'input_ids':x_train_ids, 'attention_mask':x_train_mask, 'labels':y_train}, \n",
        "    validation_data = ({'input_ids':x_test_ids,'attention_mask':x_test_mask},y_test), # Includes validation data for performance monitoring and early stopping to prevent overfitting\n",
        "    epochs=3,\n",
        "    batch_size=16, \n",
        "    callbacks = [earlystop] \n",
        ")"
      ]
    },
    {
      "cell_type": "code",
      "execution_count": null,
      "id": "6233fb72",
      "metadata": {},
      "outputs": [],
      "source": [
        "#saving our model:\n",
        "\n",
        "model.save_pretrained(\"my_tf_bert_model\")\n",
        "tokenizer.save_pretrained(\"my_tf_bert_model\")"
      ]
    },
    {
      "cell_type": "code",
      "execution_count": null,
      "id": "b6cacbd5",
      "metadata": {},
      "outputs": [],
      "source": [
        "# Evaluate the model on the test set\n",
        "loss, accuracy = model.evaluate(\n",
        "    [x_test_ids,x_test_mask],\n",
        "    y_test,\n",
        "    batch_size=16\n",
        ")"
      ]
    },
    {
      "cell_type": "code",
      "execution_count": null,
      "id": "c1dae85c",
      "metadata": {},
      "outputs": [],
      "source": [
        "print(f\"Test Loss: {loss:.4f}\")\n",
        "print(f\"Test Accuracy: {accuracy:.4f}\")"
      ]
    },
    {
      "cell_type": "code",
      "execution_count": null,
      "id": "6e145eb9",
      "metadata": {},
      "outputs": [],
      "source": [
        "# Inference on a new example\n",
        "text = \"The movie was amazing!\"\n",
        "inputs = tokenizer(\n",
        "    text,\n",
        "    return_tensors=\"tf\",\n",
        "    truncation=True,\n",
        "    padding=\"max_length\",\n",
        "    max_length=64\n",
        ")\n",
        "\n",
        "# Get model predictions\n",
        "outputs = model(inputs)\n",
        "pred = tf.argmax(outputs.logits, axis=1).numpy()[0]\n",
        "\n",
        "print(\"Predicted class:\", pred)"
      ]
    },
    {
      "cell_type": "code",
      "execution_count": null,
      "id": "88702a03",
      "metadata": {},
      "outputs": [],
      "source": [
        "# Generate predictions and print classification report to evaluate model performance\n",
        "\n",
        "from sklearn.metrics import classification_report, confusion_matrix\n",
        "\n",
        "y_pred_probs = model.predict([x_test_ids, x_test_mask]).logits\n",
        "y_pred = np.argmax(y_pred_probs, axis=1)\n",
        "\n",
        "print(classification_report(y_test, y_pred))"
      ]
    },
    {
      "cell_type": "code",
      "execution_count": null,
      "id": "1c5dba73",
      "metadata": {},
      "outputs": [],
      "source": [
        "label_mapping = dict(zip(le.classes_,le.transform(le.classes_)))\n",
        "print(label_mapping)"
      ]
    },
    {
      "cell_type": "code",
      "execution_count": null,
      "id": "868be42e",
      "metadata": {},
      "outputs": [],
      "source": [
        "label = [\"Negative\",\"Neutral\",\"Positive\"]"
      ]
    },
    {
      "cell_type": "code",
      "execution_count": null,
      "id": "b3189831",
      "metadata": {},
      "outputs": [],
      "source": [
        "# Plot the confusion matrix to visualize model performance across sentiment classes\n",
        "\n",
        "cm = confusion_matrix(y_test,y_pred)\n",
        "plt.figure(figsize=(6,4))\n",
        "sns.heatmap(cm, annot=True, fmt=\"d\", cmap=\"Greens\", xticklabels=label,yticklabels=label)\n",
        "plt.ylabel(\"Actual\")\n",
        "plt.xlabel(\"Predicted\")\n",
        "plt.show()"
      ]
    },
    {
      "cell_type": "code",
      "execution_count": null,
      "id": "5fb58713",
      "metadata": {},
      "outputs": [],
      "source": [
        "from sklearn.metrics import classification_report\n",
        "\n",
        "# Print classification report with precision, recall, and F1-score for each sentiment class\n",
        "\n",
        "print(classification_report(y_test, y_pred, target_names=label))"
      ]
    },
    {
      "cell_type": "code",
      "execution_count": null,
      "id": "a2b294a2",
      "metadata": {},
      "outputs": [],
      "source": [
        "# Generate classification report as a dict\n",
        "report = classification_report(y_test, y_pred, target_names=label, output_dict=True)\n",
        "\n",
        "# Convert to DataFrame\n",
        "df = pd.DataFrame(report).transpose()\n",
        "\n",
        "# Select only precision, recall, f1-score\n",
        "df_metrics = df[['precision', 'recall', 'f1-score']].iloc[:-3]  # drop accuracy/avg rows\n",
        "\n",
        "# Plot\n",
        "df_metrics.plot(kind='bar', figsize=(8,6))\n",
        "plt.title(\"Classification Report Metrics\")\n",
        "plt.ylabel(\"Score\")\n",
        "plt.ylim(0, 1.05)  # scores are between 0 and 1\n",
        "plt.xticks(rotation=0)\n",
        "plt.legend(loc='lower right')\n",
        "plt.show()"
      ]
    },
    {
      "cell_type": "code",
      "execution_count": null,
      "id": "5f4b8dbf",
      "metadata": {},
      "outputs": [],
      "source": [
        "from sklearn.metrics import f1_score\n",
        "\n",
        "f1_macro = f1_score(y_test, y_pred, average=\"macro\")\n",
        "f1_micro = f1_score(y_test, y_pred, average=\"micro\")\n",
        "f1_weighted = f1_score(y_test, y_pred, average=\"weighted\")"
      ]
    },
    {
      "cell_type": "code",
      "execution_count": null,
      "id": "22d0a4c7",
      "metadata": {},
      "outputs": [],
      "source": [
        "print(\"BERT Model F1 Scores:\")\n",
        "print(f\"Micro F1: {f1_micro:.4f}\")\n",
        "print(f\"Macro F1: {f1_macro:.4f}\")\n",
        "print(f\"Weighted F1: {f1_weighted:.4f}\")"
      ]
    }
  ],
  "metadata": {
    "colab": {
      "provenance": []
    },
    "kernelspec": {
      "display_name": "Python 3 (ipykernel)",
      "language": "python",
      "name": "python3"
    },
    "language_info": {
      "codemirror_mode": {
        "name": "ipython",
        "version": 3
      },
      "file_extension": ".py",
      "mimetype": "text/x-python",
      "name": "python",
      "nbconvert_exporter": "python",
      "pygments_lexer": "ipython3",
      "version": "3.11.5"
    }
  },
  "nbformat": 4,
  "nbformat_minor": 5
}
